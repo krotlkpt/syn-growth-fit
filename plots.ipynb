{
 "cells": [
  {
   "cell_type": "markdown",
   "metadata": {},
   "source": [
    "Get the data"
   ]
  },
  {
   "cell_type": "code",
   "execution_count": null,
   "metadata": {},
   "outputs": [],
   "source": [
    "import requests\n",
    "url = (\n",
    "    \"https://elifesciences.org/download/\"\n",
    "    \"aHR0cHM6Ly9jZG4uZWxpZmVzY2llbmNlcy5\"\n",
    "    \"vcmcvYXJ0aWNsZXMvNDI1MDgvZWxpZmUtND\"\n",
    "    \"I1MDgtZmlnMi1kYXRhMS12Mi54bHN4/\"\n",
    "    \"elife-42508-fig2-data1-v2.xlsx\"\n",
    "    \"?_hash=Hh3ocah43An8im3VeACcZ%2F\"\n",
    "    \"TxN1OLx58raFS1Bj%2Brtrw%3D\"\n",
    ")\n",
    "filename = \"data/elife-42508-fig2-data1-v2.xlsx\"\n",
    "data = requests.get(url)\n",
    "with open(filename, 'wb') as file:\n",
    "    file.write(data.content)"
   ]
  },
  {
   "cell_type": "markdown",
   "metadata": {},
   "source": [
    "Set up the functions and variables:"
   ]
  },
  {
   "cell_type": "code",
   "execution_count": null,
   "metadata": {},
   "outputs": [],
   "source": [
    "from modules.import_elife import DataImporter, Import_Theune\n",
    "from modules.colors import Colors\n",
    "from modules.import_model import import_model, split_rubisco\n",
    "from modules.zavrel_FIT import get_kl, pd_fitting, pd_fitting_w_resp\n",
    "from modules.zavrel_FIT import plus_blue, fit_haldane\n",
    "from modules.zavrel_FIT import photodamage_helper, dark_resp\n",
    "from modules.add_glycogen import update_glycogen, update_prot_glyc\n",
    "from modules.fit_glycogen_funcs import fit as fit_glyc\n",
    "from modules.sens import Sensitivity_Calculator as SC"
   ]
  },
  {
   "cell_type": "code",
   "execution_count": null,
   "metadata": {},
   "outputs": [],
   "source": [
    "import numpy as np\n",
    "import multiprocessing as mp\n",
    "import seaborn as sns\n",
    "import matplotlib.pyplot as plt\n",
    "from scipy import optimize as op"
   ]
  },
  {
   "cell_type": "code",
   "execution_count": null,
   "metadata": {},
   "outputs": [],
   "source": [
    "\n",
    "zavrel = DataImporter()\n",
    "blue_light = 27.5\n",
    "\n",
    "HU = Colors()"
   ]
  },
  {
   "cell_type": "markdown",
   "metadata": {},
   "source": [
    "Set up the plots:"
   ]
  },
  {
   "cell_type": "code",
   "execution_count": null,
   "metadata": {},
   "outputs": [],
   "source": [
    "sns.set_style('ticks')  # darkgrid, white grid, dark, white and ticks\n",
    "# sns.set(rc={'axes.facecolor': HU.oldgreygreen + [.5]})\n",
    "plt.rc('axes', titlesize=19)     # fontsize of the axes title\n",
    "plt.rc('axes', labelsize=17)     # fontsize of the x and y labels\n",
    "plt.rc('xtick', labelsize=14)    # fontsize of the tick labels\n",
    "plt.rc('ytick', labelsize=14)    # fontsize of the tick labels\n",
    "plt.rc('legend', fontsize=13)    # legend fontsize\n",
    "plt.rc('font', size=15)          # controls default text sizes\n",
    "plt.rc('lines', linewidth=3)     # width of the lines\n",
    "\n",
    "def make_Axes(x):\n",
    "    x.set_xlabel(\"Photon flux [$\\\\mu mol\\\\cdot m^{-2} s^{-1}$]\")\n",
    "    x.set_ylabel(\"Growth rate [$h^{-1}$]\")\n",
    "    x.set_xlim(0, 1100*1.1)\n",
    "    x.set_ylim(0)\n",
    "\n",
    "\n",
    "CM = 1/2.54  # convert cm to inch\n",
    "\n",
    "SAVEFIGS = False\n",
    "SAVEPATH = \"plots/\"\n",
    "IMG_TYPE = \".pdf\"\n",
    "IMG_SIZE = np.array([6*CM, 4.5*CM])*2.2"
   ]
  },
  {
   "cell_type": "markdown",
   "metadata": {},
   "source": [
    "Now we set up variables we'll need for our simulation and import the model."
   ]
  },
  {
   "cell_type": "code",
   "execution_count": null,
   "metadata": {},
   "outputs": [],
   "source": [
    "PHOTON_ID = \"EX_E1_ext_b\"\n",
    "NITRATE_ID = \"EX_C00244_ext_b\"\n",
    "O2_ID = \"EX_C00007_ext_b\"\n",
    "CO2_ID = \"EX_C00011_ext_b\"\n",
    "EPS2 = \"PR0044\"\n",
    "EPS1 = \"PR0030\"\n",
    "NDH = [\"PR000\" + i for i in [\"4\", \"6\"]]  # , \"7\", \"5\"]]\n",
    "gly = (True, 2)\n",
    "\n",
    "LIGHTIN = zavrel.get(\"light\")\n",
    "GROWTHRATE = zavrel.get(\"growth\")\n",
    "O2 = zavrel.value(\"net O2 fba\")\n",
    "CO2 = zavrel.value(\"CO2 fba\")\n",
    "RESP = zavrel.value(\"dark resp fba\")\n",
    "GLYCOGEN = zavrel.get(\"glycogen\")/zavrel.value(\"DW\")\n",
    "PROTEIN = zavrel.get(\"protein\")/zavrel.value(\"DW\")\n",
    "\n",
    "N_DATA = 100\n",
    "\n",
    "new_syn = split_rubisco(import_model(\n",
    "        'model/Synechocystis6803_SBML_COBRA_24_4_17.sbml'\n",
    "    ), 300/97)\n",
    "# knock out cell wall atpase, to prevent \"atp from nothing\" production:\n",
    "new_syn.reactions.PR0045.knock_out()\n",
    "\n",
    "new_syn = update_glycogen(new_syn, 3.41)\n",
    "\n",
    "photons = np.linspace(0, LIGHTIN[-1]*1.1, N_DATA) + blue_light\n",
    "\n",
    "\n",
    "glyc_fitted = fit_glyc(\n",
    "    zavrel.get(\"light\") + blue_light,\n",
    "    zavrel.get(\"glycogen\")/zavrel.get(\"DW\")\n",
    ")"
   ]
  },
  {
   "cell_type": "markdown",
   "metadata": {},
   "source": [
    "Now we calculate the absorbed light with integration over the depth of the reactor  with lambert-beer.\n",
    "Light at  depth z is I<sub>z</sub> = I<sub>0</sub> e<sup>-&epsilon; &rho;<sub>v</sub> z</sup>.\n",
    "When integrated over the reactors depth we get J<sub>I</sub><sup>exp</sup> = $\\frac{I_{abs}}{\\rho_{A}}$ .\n",
    "Blue photons are expected to be absorbed at the same rate:"
   ]
  },
  {
   "cell_type": "code",
   "execution_count": null,
   "metadata": {},
   "outputs": [],
   "source": [
    "def calc_light(blue: float) -> np.array:\n",
    "    light_calc = (\n",
    "        (\n",
    "            zavrel.get(\"light cap with error\")\n",
    "            +\n",
    "            (\n",
    "                blue_light * zavrel.get(\"light cap with error\")\n",
    "                /\n",
    "                zavrel.get(\"light with error\") * blue\n",
    "            )\n",
    "        )\n",
    "        /\n",
    "        (zavrel.get(\"DW with error\") * 0.02) * (60*60) / 1000\n",
    "    )\n",
    "    return light_calc\n",
    "\n",
    "\n",
    "light_calc_with_error_b0 = calc_light(0)\n",
    "light_calc_with_error_b100 = calc_light(1)\n",
    "light_calc_with_error = calc_light(.66)"
   ]
  },
  {
   "cell_type": "markdown",
   "metadata": {},
   "source": [
    "Let's start\n",
    "We will first fit all our parameters to the data. This is: p<sub>max</sub>, &alpha;, &alpha;<sub>b</sub>, photodamage, respiration coefficient and nGAM"
   ]
  },
  {
   "cell_type": "code",
   "execution_count": null,
   "metadata": {},
   "outputs": [],
   "source": [
    "with new_syn:\n",
    "    (pmax, alpha, alpha2, kd, mehl, maint), pcov = op.curve_fit(\n",
    "        pd_fitting_w_resp(new_syn, PHOTON_ID, gly),\n",
    "        np.hstack((LIGHTIN, np.delete(LIGHTIN, [5, 7])))+blue_light,\n",
    "        np.hstack((GROWTHRATE*1000, np.delete(RESP, [5, 7]))),\n",
    "        p0=(110, .5/3.6, .66, 6, 5, 2.5),\n",
    "        bounds=((100, 0, 0, 0.01, 0, 0), (125, 1, 1, 100, 50, 5))\n",
    "    )\n",
    "print(f\"Alpha: {alpha}\")\n",
    "print(f\"Alpha2: {alpha2}\")\n",
    "print(f\"P_max: {pmax}\")\n",
    "print(f\"K_L: {get_kl(new_syn, pmax)}\\nk_d: {kd}\")\n",
    "print(f\"nGAM: {maint}\\nresp: {mehl}\")"
   ]
  },
  {
   "cell_type": "markdown",
   "metadata": {},
   "source": [
    "Then add the value for respiration to the model:"
   ]
  },
  {
   "cell_type": "code",
   "execution_count": null,
   "metadata": {},
   "outputs": [],
   "source": [
    "resp_rxns = [\n",
    "    new_syn.reactions.get_by_id(X) for X in [\n",
    "        \"PR0010\", \"PR0010_2\", \"PR0011\", \"PR0011_2\"\n",
    "    ]\n",
    "]\n",
    "use_sum = sum([x.flux_expression for x in resp_rxns])\n",
    "some_flux = new_syn.problem.Constraint(\n",
    "    use_sum - mehl/100 * new_syn.reactions.PR0043.flux_expression,\n",
    "    lb=0,\n",
    "    ub=1000,\n",
    "    name=\"respiration\"\n",
    ")\n",
    "new_syn.add_cons_vars([some_flux])"
   ]
  },
  {
   "cell_type": "markdown",
   "metadata": {},
   "source": [
    "Now we fit again with fixed values for respiration and nGAM. Print the values:"
   ]
  },
  {
   "cell_type": "code",
   "execution_count": null,
   "metadata": {},
   "outputs": [],
   "source": [
    "with new_syn:\n",
    "    (pmax, alpha, alpha2, kd), pcov = op.curve_fit(\n",
    "        pd_fitting(new_syn, PHOTON_ID, gly, maint),\n",
    "        LIGHTIN+blue_light,\n",
    "        GROWTHRATE,\n",
    "        p0=(110, .5/3.6, .66, 6),\n",
    "        bounds=((100, 0, 0, 0.01), (125, 1, 1, 100))\n",
    "    )\n",
    "(\n",
    "    pmax_er,\n",
    "    alpha_er,\n",
    "    alpha2_er,\n",
    "    kd_er\n",
    ") = np.sqrt(np.diag(pcov))\n",
    "print(\"fitted only main paras:\")\n",
    "print(f\"Alpha: {alpha} (+/- {alpha_er})\")\n",
    "print(f\"Alpha2: {alpha2} (+/- {alpha2_er})\")\n",
    "print(f\"P_max: {pmax} (+/- {pmax_er})\")\n",
    "print(f\"K_L: {get_kl(new_syn, pmax)}\\nk_d: {kd} (+/- {kd_er})\")"
   ]
  },
  {
   "cell_type": "markdown",
   "metadata": {},
   "source": [
    "With &alpha; we fitted a factor to convert irradiated photons per area to absobed photons per CDW. We can compare this linear fit with the absorbed photons that we calculated earlier. For demsonstrating purposes, let's add the blue photons with an efficiency of 0-100%:"
   ]
  },
  {
   "cell_type": "code",
   "execution_count": null,
   "metadata": {},
   "outputs": [],
   "source": [
    "show_points = False\n",
    "\n",
    "fig, ax = plt.subplots(figsize=IMG_SIZE)\n",
    "ax.fill_between(\n",
    "    LIGHTIN,\n",
    "    [p.n for p in light_calc_with_error_b0],\n",
    "    [p.n for p in light_calc_with_error_b100],\n",
    "    facecolor=HU.violet+[0.9], linewidth=0,\n",
    "    label=\"Absorbed Photons calculated\"\n",
    ")\n",
    "ax.fill_between(\n",
    "    photons-blue_light,\n",
    "    alpha*3.6*(photons-blue_light), alpha*3.6*(photons),\n",
    "    facecolor=HU.orange+[0.9], linewidth=0,\n",
    "    label=\"Absorbed Photons fitted\"\n",
    ")\n",
    "ax.errorbar(\n",
    "    LIGHTIN, [p.n for p in light_calc_with_error],\n",
    "    [p.s for p in light_calc_with_error],\n",
    "    fmt=\"none\", elinewidth=.5, capsize=2, ecolor=HU.violet\n",
    ")\n",
    "if show_points:\n",
    "    ax.plot(\n",
    "        LIGHTIN, p_calc := [p.n for p in light_calc_with_error],\n",
    "        \"o\", color=HU.violet,\n",
    "        label=\"Absorbed Photons calculated\"\n",
    "    )\n",
    "    ax.plot(\n",
    "        LIGHTIN,\n",
    "        alpha*3.6*(LIGHTIN+alpha2*blue_light), \"o\",\n",
    "        color=HU.orange,\n",
    "        label=\"Absorbed Photons fitted\"\n",
    "    )\n",
    "make_Axes(ax)\n",
    "ax.legend()\n",
    "ax.set_ylabel(\"absorbed Photons [$mmol\\\\cdot gDW^{-1} h^{-1}$]\")\n",
    "# ax.set_xlabel(\"Photons irradiated [$µE\\\\cdot m^{-2} s^{-1}$]\")\n",
    "\n",
    "plt.tight_layout(pad=0.3)\n",
    "fig.show()\n",
    "if SAVEFIGS:\n",
    "    fig.savefig(SAVEPATH+\"photons\"+IMG_TYPE, bbox_inches='tight')"
   ]
  },
  {
   "cell_type": "markdown",
   "metadata": {},
   "source": [
    "For more accurate predictions the biomass is updated prior to each simulation to represent the measured values for glycogen and protein content in the cell.\n",
    "The Biomass composition changes accordingly:"
   ]
  },
  {
   "cell_type": "code",
   "execution_count": null,
   "metadata": {},
   "outputs": [],
   "source": [
    "stackes = {}\n",
    "with new_syn:\n",
    "    for ind in range(len(LIGHTIN)):\n",
    "        new_syn = update_prot_glyc(\n",
    "            new_syn, PROTEIN[ind]*100, GLYCOGEN[ind]*100\n",
    "        )\n",
    "        bof = new_syn.reactions.BM0009\n",
    "        stackes[LIGHTIN[ind]] = {\n",
    "            \"BM_comp\": [\n",
    "                met.name.replace(\" component of biomass_cyt\", \"\")\n",
    "                for met in bof.reactants\n",
    "                if met.id not in [\n",
    "                    \"C00002_cyt\", \"C00001_cyt\"\n",
    "                ]\n",
    "            ],\n",
    "            \"percent\": [\n",
    "                bof.get_coefficient(met) * -100\n",
    "                for met in bof.reactants\n",
    "                if met.id not in [\n",
    "                    \"C00002_cyt\", \"C00001_cyt\"\n",
    "                ]\n",
    "            ],\n",
    "            \"colors\": [\n",
    "                HU.oldgreen,\n",
    "                HU.oldred + [.3],\n",
    "                HU.oldsand,\n",
    "                HU.oldgreygreen,\n",
    "                HU.oldblue + [.8],\n",
    "                HU.oldred + [.8],\n",
    "                HU.oldgreen + [.7],\n",
    "                HU.oldblue + [.5],\n",
    "                HU.oldgreyblue\n",
    "            ]\n",
    "        }\n",
    "\n",
    "fig, ax = plt.subplots(figsize=IMG_SIZE)\n",
    "ax.stackplot(\n",
    "    LIGHTIN,\n",
    "    [stackes[i][\"percent\"][0] for i in LIGHTIN],\n",
    "    [stackes[i][\"percent\"][1] for i in LIGHTIN],\n",
    "    [stackes[i][\"percent\"][2] for i in LIGHTIN],\n",
    "    [stackes[i][\"percent\"][3] for i in LIGHTIN],\n",
    "    [stackes[i][\"percent\"][4] for i in LIGHTIN],\n",
    "    [stackes[i][\"percent\"][5] for i in LIGHTIN],\n",
    "    [stackes[i][\"percent\"][6] for i in LIGHTIN],\n",
    "    [stackes[i][\"percent\"][7] for i in LIGHTIN],\n",
    "    [stackes[i][\"percent\"][8] for i in LIGHTIN],\n",
    "    labels=stackes[LIGHTIN[0]][\"BM_comp\"],\n",
    "    colors=stackes[LIGHTIN[0]][\"colors\"]\n",
    ")\n",
    "make_Axes(ax)\n",
    "ax.set_yticks([0, 20, 40, 60, 80, 100])\n",
    "ax.set_yticklabels([\"0 %\", \"20 %\", \"40 %\", \"60 %\", \"80 %\", \"100 %\"])\n",
    "ax.set_ylabel(\"Percentage in Biomass\")\n",
    "handles, labels = ax.get_legend_handles_labels()\n",
    "ax.legend(handles[::-1], labels[::-1], loc=\"center left\", bbox_to_anchor=(1, .5))\n",
    "\n",
    "plt.tight_layout(pad=0.3)\n",
    "fig.show()\n",
    "if SAVEFIGS:\n",
    "    fig.savefig(SAVEPATH+\"BM_stacked\"+IMG_TYPE)"
   ]
  },
  {
   "cell_type": "markdown",
   "metadata": {},
   "source": [
    "Now we'll start simulating. These can take quite some time. If you want faster results, lower the N_DATA value ta have less data points (and less smooth plots)\n",
    "Let's start with stoichometric gwoth:"
   ]
  },
  {
   "cell_type": "code",
   "execution_count": null,
   "metadata": {},
   "outputs": [],
   "source": [
    "# N_DATA = 1000\n",
    "# photons = np.linspace(0, LIGHTIN[-1]*1.1, N_DATA) + blue_light\n",
    "\n",
    "with mp.Pool(mp.cpu_count()-2) as pool:\n",
    "    with new_syn:\n",
    "        stoich_gro = np.array(pool.starmap(\n",
    "                photodamage_helper,\n",
    "                (\n",
    "                    (\n",
    "                        new_syn,\n",
    "                        PHOTON_ID,\n",
    "                        \"BM0009\",\n",
    "                        p*-1,\n",
    "                        10**100,\n",
    "                        0,\n",
    "                        alpha, alpha2, 0,\n",
    "                        gly, maint\n",
    "                    )\n",
    "                    for p in photons\n",
    "                )\n",
    "            ))"
   ]
  },
  {
   "cell_type": "markdown",
   "metadata": {},
   "source": [
    "And plot it:\n"
   ]
  },
  {
   "cell_type": "code",
   "execution_count": null,
   "metadata": {},
   "outputs": [],
   "source": [
    "fig, ax = plt.subplots(figsize=IMG_SIZE*.85)\n",
    "ax.plot(\n",
    "    photons-blue_light, stoich_gro, 'k-', label=\"growth rate simulated\"\n",
    ")\n",
    "make_Axes(ax)\n",
    "ax.legend()\n",
    "fig.show()\n",
    "if SAVEFIGS:\n",
    "    fig.savefig(SAVEPATH + \"growth\"+IMG_TYPE)\n",
    "fig1, ax1 = plt.subplots(figsize=IMG_SIZE*.85)\n",
    "ax1.plot(LIGHTIN, GROWTHRATE, \"ko\", label=\"growth rate experimental\")\n",
    "ax1.errorbar(\n",
    "    LIGHTIN, GROWTHRATE, zavrel.error(\"growth\"),\n",
    "    fmt=\"none\", elinewidth=.5, capsize=2, ecolor=\"k\"\n",
    ")\n",
    "make_Axes(ax1)\n",
    "ax1.set_ylim(0, 0.13)\n",
    "ax1.legend(loc=\"lower right\")\n",
    "\n",
    "plt.tight_layout(pad=0.3)\n",
    "fig1.show()\n",
    "if SAVEFIGS:\n",
    "    fig1.savefig(SAVEPATH + \"growth_exp\"+IMG_TYPE)\n",
    "\n",
    "print(\n",
    "    \"MAX stoich yield: \",\n",
    "    max(np.array(stoich_gro)/plus_blue(photons, alpha, alpha2)*1000)\n",
    ")"
   ]
  },
  {
   "cell_type": "code",
   "execution_count": null,
   "metadata": {},
   "outputs": [],
   "source": [
    "\n",
    "with new_syn:\n",
    "    (pmax_nd, alpha_nd, alpha2_nd, kd_nd), _ = op.curve_fit(\n",
    "        pd_fitting(new_syn, PHOTON_ID, gly, maint),\n",
    "        LIGHTIN[:5]+blue_light, GROWTHRATE[:5],\n",
    "        p0=(100, 0.6/3.6, 0.6, 0),\n",
    "        bounds=((20, 0.2/3.6, 0, 0), (300, 1, 1, 0.0000001))\n",
    "    )\n",
    "\n",
    "with mp.Pool(mp.cpu_count()-2) as pool:\n",
    "    gro_nd = pool.starmap(\n",
    "            photodamage_helper,\n",
    "            (\n",
    "                (\n",
    "                    new_syn,\n",
    "                    PHOTON_ID,\n",
    "                    \"BM0009\",\n",
    "                    p*-1,\n",
    "                    get_kl(new_syn, pmax_nd),\n",
    "                    kd_nd,\n",
    "                    alpha_nd,\n",
    "                    alpha2_nd, 0,\n",
    "                    gly, maint\n",
    "                )\n",
    "                for p in photons\n",
    "            )\n",
    "        )\n"
   ]
  },
  {
   "cell_type": "code",
   "execution_count": null,
   "metadata": {},
   "outputs": [],
   "source": [
    "\n",
    "fig, ax = plt.subplots(figsize=IMG_SIZE*.85)\n",
    "ax.plot(photons-blue_light, gro_nd, \"k\", label=\"growth rate simulated\")\n",
    "ax.plot(LIGHTIN, GROWTHRATE, \"ko\", label=\"growth rate experimental\")\n",
    "ax.errorbar(\n",
    "    LIGHTIN, GROWTHRATE, zavrel.error(\"growth\"),\n",
    "    fmt=\"none\", elinewidth=.5, capsize=2, ecolor=\"k\"\n",
    ")\n",
    "make_Axes(ax)\n",
    "ax.legend()\n",
    "ax.set_ylim(0, 0.13)\n",
    "\n",
    "plt.tight_layout(pad=0.3)\n",
    "fig.show()\n",
    "if SAVEFIGS:\n",
    "    fig.savefig(SAVEPATH + \"growth_monod\"+IMG_TYPE)"
   ]
  },
  {
   "cell_type": "markdown",
   "metadata": {},
   "source": [
    "Now simulate with all paramters and grep the values for growthrate, O<sub>2</sub>, CO<sub>2</sub> and NO<sub>3</sub>\n"
   ]
  },
  {
   "cell_type": "code",
   "execution_count": null,
   "metadata": {},
   "outputs": [],
   "source": [
    "with mp.Pool(mp.cpu_count()-2) as pool:\n",
    "    groo2co2 = pool.starmap(\n",
    "        photodamage_helper,\n",
    "        (\n",
    "            (\n",
    "                new_syn,\n",
    "                PHOTON_ID,\n",
    "                [\"BM0009\", O2_ID, CO2_ID, NITRATE_ID],\n",
    "                p*-1,\n",
    "                get_kl(new_syn, pmax),\n",
    "                kd,\n",
    "                alpha,\n",
    "                alpha2, 0,\n",
    "                gly, maint\n",
    "            )\n",
    "            for p in photons\n",
    "        )\n",
    "    )\n",
    "    gro = np.array([f[0] for f in groo2co2])\n",
    "    o2 = np.array([f[1] for f in groo2co2])\n",
    "    co2 = np.array([f[2] for f in groo2co2])\n",
    "    no3 = np.array([f[3] for f in groo2co2])"
   ]
  },
  {
   "cell_type": "markdown",
   "metadata": {},
   "source": [
    "Plot growth rate:"
   ]
  },
  {
   "cell_type": "code",
   "execution_count": null,
   "metadata": {},
   "outputs": [],
   "source": [
    "fig, ax = plt.subplots(figsize=IMG_SIZE*.85)\n",
    "\n",
    "p1 = ax.plot(photons-blue_light, gro, \"k\", label=\"Growth rate simulated\")\n",
    "p2 = ax.plot(LIGHTIN, GROWTHRATE, \"ko\", label=\"Growth rate experimental\")\n",
    "ax.errorbar(\n",
    "    LIGHTIN, GROWTHRATE, zavrel.error(\"growth\"),\n",
    "    fmt=\"none\", elinewidth=.5, capsize=2, ecolor=\"k\"\n",
    ")\n",
    "make_Axes(ax)\n",
    "ax.legend()\n",
    "ax.set_ylim(0, 0.13)\n",
    "\n",
    "plt.tight_layout(pad=0.3)\n",
    "fig.show()\n",
    "if SAVEFIGS:\n",
    "    fig.savefig(SAVEPATH + \"growth_monod_pd\"+IMG_TYPE)"
   ]
  },
  {
   "cell_type": "markdown",
   "metadata": {},
   "source": [
    "Plot O<sub>2</sub>"
   ]
  },
  {
   "cell_type": "code",
   "execution_count": null,
   "metadata": {},
   "outputs": [],
   "source": [
    "fig, ax = plt.subplots(figsize=IMG_SIZE)  # figsize=(17.32*CM, 13*CM))\n",
    "p3 = ax.plot(\n",
    "    photons-blue_light, o2, color=HU.oldgreen + [.6],\n",
    "    label=\"O$_2$ production simulated\"\n",
    ")\n",
    "p4 = ax.plot(\n",
    "    LIGHTIN, O2, \"o\", color=HU.oldgreen + [.6],\n",
    "    label=\"O$_2$ production experimental\"\n",
    ")\n",
    "ax.errorbar(\n",
    "    LIGHTIN, O2, zavrel.error(\"O2 fba\"),\n",
    "    fmt=\"none\", elinewidth=.5, capsize=2, ecolor=HU.oldgreen + [.6]\n",
    ")\n",
    "O2_CORRECTION = 1.12\n",
    "p5 = ax.plot(\n",
    "    LIGHTIN, O2 * O2_CORRECTION, \"s\", color=HU.oldgreygreen + [.8],\n",
    "    label=f\"O$_2$ prod. exp. + {round((O2_CORRECTION-1)*100, 0)}%\"\n",
    ")\n",
    "O2_CORRECTION = 1\n",
    "p = p3 + p4 + p5\n",
    "labels = [lab.get_label() for lab in p]\n",
    "ax.legend(p, labels)\n",
    "ax.set_ylim(0, 7.05)\n",
    "ax.set_xlim(0)\n",
    "ax.set_xlabel(\"Photon flux [$\\\\mu mol\\\\cdot m^{-2} s^{-1}$]\")\n",
    "ax.set_ylabel(r\"O$_2$ flux [$mmol\\cdot gDW^{-1}h^{-1}$]\")\n",
    "\n",
    "plt.tight_layout(pad=0.3)\n",
    "fig.show()\n",
    "if SAVEFIGS:\n",
    "    fig.savefig(SAVEPATH + \"growth_plus_o2\"+IMG_TYPE)"
   ]
  },
  {
   "cell_type": "markdown",
   "metadata": {},
   "source": [
    "We also look at the yield, i.e. the biomass production divided by the irradiated photons. For the experimental values we span a range from 0-100% usage of blue photons."
   ]
  },
  {
   "cell_type": "code",
   "execution_count": null,
   "metadata": {},
   "outputs": [],
   "source": [
    "fig, ax = plt.subplots(figsize=IMG_SIZE)  # figsize=(17.32*CM, 13*CM))\n",
    "ax.plot(\n",
    "    photons-blue_light,\n",
    "    gro/plus_blue(photons, alpha, alpha2)*1000,\n",
    "    color=HU.oldblue, label=\"Yield simulated\"\n",
    ")\n",
    "ax.plot(\n",
    "    photons-blue_light,\n",
    "    stoich_gro/plus_blue(photons, alpha, alpha2)*1000,\n",
    "    \"--\", color=HU.oldblue, label=\"stoichometric yield\"\n",
    ")\n",
    "make_Axes(ax)\n",
    "ax.set_ylim(0)\n",
    "ax.set_ylabel(\"Yield [$\\\\frac{gDW}{mol_{Photons}}$]\")\n",
    "ax.legend()\n",
    "\n",
    "ax.fill_between(\n",
    "    zavrel.get(\"light\"),\n",
    "    np.array([\n",
    "        -y.s for y in\n",
    "        zavrel.get(\n",
    "            \"growth with error\"\n",
    "        )/light_calc_with_error_b100*1000\n",
    "    ]) +\n",
    "    GROWTHRATE/np.array([i.n for i in light_calc_with_error_b100])*1000,\n",
    "    np.array([\n",
    "        y.s for y in\n",
    "        zavrel.get(\n",
    "            \"growth with error\"\n",
    "        )/light_calc_with_error_b0*1000\n",
    "    ]) +\n",
    "    GROWTHRATE/np.array([i.n for i in light_calc_with_error_b0])*1000,\n",
    "    facecolor=HU.oldblue+[0.4], linewidth=0\n",
    ")\n",
    "ax.fill_between(\n",
    "    zavrel.get(\"light\"),\n",
    "    GROWTHRATE/np.array([i.n for i in light_calc_with_error_b0])*1000,\n",
    "    GROWTHRATE/np.array([i.n for i in light_calc_with_error_b100])*1000,\n",
    "    color=HU.oldblue+[0.8], linewidth=0,\n",
    "    label=(\"Experimental Yield\")\n",
    ")\n",
    "ax.legend()\n",
    "\n",
    "plt.tight_layout(pad=0.3)\n",
    "plt.show()\n",
    "if SAVEFIGS:\n",
    "    fig.savefig(SAVEPATH + \"yield_int_light\"+IMG_TYPE)"
   ]
  },
  {
   "cell_type": "markdown",
   "metadata": {},
   "source": [
    "In the end, we can have a look at the Sensetivity of the parameters, i.e. how does a slight alternation of the parameters change the growth result?"
   ]
  },
  {
   "cell_type": "code",
   "execution_count": null,
   "metadata": {},
   "outputs": [],
   "source": [
    "sens_calc = SC(\n",
    "    new_syn,\n",
    "    kd,\n",
    "    get_kl(new_syn, pmax),\n",
    "    alpha,\n",
    "    alpha2,\n",
    "    maint\n",
    ")"
   ]
  },
  {
   "cell_type": "code",
   "execution_count": null,
   "metadata": {},
   "outputs": [],
   "source": [
    "phots = np.arange(0, 1100, 2)\n",
    "with mp.Pool(mp.cpu_count()-2) as pool:\n",
    "    sensitivities = pool.map(sens_calc.calc_sens, phots)"
   ]
  },
  {
   "cell_type": "code",
   "execution_count": null,
   "metadata": {},
   "outputs": [],
   "source": [
    "parastrings = {\n",
    "    \"kd\": (\"k$_d$\", \"red\"),\n",
    "    \"kl\": (\"K$_L$\", \"blue\"),\n",
    "    \"a\": (\"$\\\\alpha$\", \"orange\"),\n",
    "    \"a2\": (\"$\\\\alpha_2$\", \"darkorange\"),\n",
    "    \"I0\": (\"I$_0$\", \"gold\")\n",
    "}\n",
    "fig, ax = plt.subplots(figsize=IMG_SIZE)\n",
    "for p in parastrings:\n",
    "    ax.plot(\n",
    "        phots, [dic[p] for dic in sensitivities],\n",
    "        color=parastrings[p][1], label=parastrings[p][0]\n",
    "    )\n",
    "\n",
    "ax.set_ylabel(\"Sensitivity\")\n",
    "ax.set_xlabel(\"Photons [µE/m$^2$/s]\")\n",
    "ax.set_xlim(0)\n",
    "ax.legend()\n",
    "fig.show()\n",
    "if SAVEFIGS:\n",
    "    fig.savefig(SAVEPATH + \"sens_all\" + IMG_TYPE, bbox_inches='tight')"
   ]
  }
 ],
 "metadata": {
  "kernelspec": {
   "display_name": ".cobra_new",
   "language": "python",
   "name": "python3"
  },
  "language_info": {
   "codemirror_mode": {
    "name": "ipython",
    "version": 3
   },
   "file_extension": ".py",
   "mimetype": "text/x-python",
   "name": "python",
   "nbconvert_exporter": "python",
   "pygments_lexer": "ipython3",
   "version": "3.9.2"
  }
 },
 "nbformat": 4,
 "nbformat_minor": 2
}
